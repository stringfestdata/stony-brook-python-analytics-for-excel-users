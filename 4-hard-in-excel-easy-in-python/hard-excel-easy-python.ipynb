{
 "cells": [
  {
   "cell_type": "markdown",
   "metadata": {},
   "source": [
    "# From \"That's hard in Excel\" to \"That's easy in Python!\"\n",
    "\n",
    "We have sales data coming from three regions; we need to clean them up and then combine them for analysis. \n",
    "\n",
    "Our files are the following and we've identified these errors:\n",
    "\n",
    "| Region | File           | Status                            |\n",
    "| ------ | -------------- | --------------------------------- |\n",
    "| 1      | `region_1.csv` | Looks OK                          |\n",
    "| 2      | `region_2.csv` | Convert `category` to proper case |\n",
    "| 3      | `region_3.csv` | Where is `region`?                |\n",
    "\n"
   ]
  },
  {
   "cell_type": "code",
   "execution_count": null,
   "metadata": {
    "code_folding": []
   },
   "outputs": [],
   "source": [
    "# Do you remember how to read in the csv files?\n",
    "import pandas as pd\n",
    "# We may want to visualize something 😉\n",
    "import seaborn as sns\n",
    "import matplotlib.pyplot as plt\n",
    "\n",
    "region_1 = pd.read_csv('region_1.csv')\n",
    "region_1.head()\n"
   ]
  },
  {
   "cell_type": "markdown",
   "metadata": {},
   "source": [
    "## Region 2: Convert `category` to proper case"
   ]
  },
  {
   "cell_type": "code",
   "execution_count": null,
   "metadata": {},
   "outputs": [],
   "source": [
    "region_2 = pd.read_csv('region_2.csv')\n",
    "region_2.head()"
   ]
  },
  {
   "cell_type": "markdown",
   "metadata": {},
   "source": [
    "To do this, we will use the [`str.title()` method from `pandas`](https://pandas.pydata.org/pandas-docs/stable/reference/api/pandas.Series.str.title.html). This works on Series, so we will need to convert the column to a Series and then add it back to the DataFrame:  "
   ]
  },
  {
   "cell_type": "code",
   "execution_count": null,
   "metadata": {},
   "outputs": [],
   "source": [
    "region_2['category'] = region_2['category'].str.title()\n",
    "region_2.head()"
   ]
  },
  {
   "cell_type": "markdown",
   "metadata": {},
   "source": [
    "## Region 3: Add a `region` field"
   ]
  },
  {
   "cell_type": "code",
   "execution_count": null,
   "metadata": {},
   "outputs": [],
   "source": [
    "region_3 = pd.read_csv('region_3.csv')\n",
    "region_3.head()"
   ]
  },
  {
   "cell_type": "markdown",
   "metadata": {},
   "source": [
    "Do you remember how to add a column? All we need is the number `3` down all rows. "
   ]
  },
  {
   "cell_type": "code",
   "execution_count": null,
   "metadata": {},
   "outputs": [],
   "source": [
    "region_3['region'] = 3\n",
    "region_3.head()"
   ]
  },
  {
   "cell_type": "markdown",
   "metadata": {},
   "source": [
    "## Appending the files\n",
    "\n",
    "Now that we've cleaned up our three reports, let's combine them into one file. We can use `concat()` from `pandas` to do a row-wise binding of these DataFrames based on their column names. (Check [the documentation](https://pandas.pydata.org/pandas-docs/stable/reference/api/pandas.concat.html) for other options.)"
   ]
  },
  {
   "cell_type": "code",
   "execution_count": null,
   "metadata": {},
   "outputs": [],
   "source": [
    "# Append our three reports\n",
    "sales_report = pd.concat([region_1, region_2, region_3])\n",
    "sales_report.head()"
   ]
  },
  {
   "cell_type": "code",
   "execution_count": null,
   "metadata": {},
   "outputs": [],
   "source": [
    "# Did we get all the data? \n",
    "# i.e. do I have the \n",
    "sales_report.shape[0] == region_1.shape[0] + region_2.shape[0] + region_3.shape[0]"
   ]
  },
  {
   "cell_type": "markdown",
   "metadata": {},
   "source": [
    "## Data analysis\n",
    "\n"
   ]
  },
  {
   "cell_type": "markdown",
   "metadata": {},
   "source": [
    "For our report, we would like to know the average sales for each category. "
   ]
  },
  {
   "cell_type": "code",
   "execution_count": null,
   "metadata": {},
   "outputs": [],
   "source": [
    "sales_report.groupby('category')[['sales']].mean()"
   ]
  },
  {
   "cell_type": "markdown",
   "metadata": {},
   "source": [
    "We will visualize this as well."
   ]
  },
  {
   "cell_type": "code",
   "execution_count": null,
   "metadata": {},
   "outputs": [],
   "source": [
    "# Bar plot of sales by category\n",
    "sns.barplot(x='category',y='sales',data=sales_report,estimator=sum)"
   ]
  },
  {
   "cell_type": "markdown",
   "metadata": {},
   "source": [
    "I'd like to clean this up so that the chart is sorted and of the same color, and we have a chart title. This takes a bit of wrangling, so I hope this is good incentive for you to continue practicing! "
   ]
  },
  {
   "cell_type": "code",
   "execution_count": null,
   "metadata": {},
   "outputs": [],
   "source": [
    "# Order our \"PivotTable\" by sales (descending) so that we know how to order the bar plot...\n",
    "result = sales_report.groupby('category')[['sales']].mean().reset_index().sort_values('sales',ascending=False)\n",
    "result"
   ]
  },
  {
   "cell_type": "code",
   "execution_count": null,
   "metadata": {},
   "outputs": [],
   "source": [
    "# Order the bar plot based on the \"PivotTable\", add color and title\n",
    "sns.barplot(x='category', y=\"sales\", data=sales_report, \n",
    "            order=result['category'],color='blue') \n",
    "plt.title('Sales by category')"
   ]
  },
  {
   "cell_type": "markdown",
   "metadata": {},
   "source": [
    "# Epilogue: Python-Powered Excel\n",
    "\n",
    "I hope that this workshop got you excited to learn Python and showed you how much about working with data you already know as an Excel user. \n",
    "\n",
    "I encourage you to keep practicing and have some resources in the Conclusion section of our slides for today.\n",
    "\n",
    "As one last \"sneak peek\" for how to use Python and Excel, let's take a look at the below code to **export our cleaned-up raw sales data and resulting summary visualization.** \n",
    "\n",
    "This involves learning some new Python functionalities which I cover in another OLT, \"Python-Powered Excel.\" For now, I would just like to show you the possibilities of using Python together with Excel. "
   ]
  },
  {
   "cell_type": "code",
   "execution_count": null,
   "metadata": {},
   "outputs": [],
   "source": [
    "### The below is a demo only -- don't worry about the code itself\n",
    "### but instead focus on the result: We can fully automate Excel by using Python!\n",
    "\n",
    "\n",
    "# This uses yet another module\n",
    "import xlsxwriter\n",
    "\n",
    "# Set pandas engine to xlsxwriter\n",
    "writer = pd.ExcelWriter('sales-report.xlsx',engine='xlsxwriter')\n",
    "\n",
    "# Convert DataFrame to xlsxwriter object -- hide DataFrame index\n",
    "# Name the worksheet 'data'\n",
    "sales_report.to_excel(writer,sheet_name='data',index=False)\n",
    "\n",
    "# Get xlsxwriter objects from DataFrame writer object\n",
    "workbook = writer.book\n",
    "worksheet = writer.sheets['data']\n",
    "\n",
    "# Freeze first row of header worksheet\n",
    "worksheet.freeze_panes(1,0)\n",
    "\n",
    "# Save a picture of our bar chart from earlier \n",
    "sns.barplot(x='category', y=\"sales\", data=sales_report, \n",
    "            order=result['category'],color='blue') \n",
    "plt.title('Sales by category')\n",
    "plt.savefig('sales.png',bbox_inches='tight',dpi=(400))\n",
    "\n",
    "# Create a new worksheet called `chart`\n",
    "worksheet2 = workbook.add_worksheet('chart')\n",
    "\n",
    "#Add image `sales.png` to the workbook\n",
    "worksheet2.insert_image('A1','sales.png')\n",
    "\n",
    "# Close the workbook and get pumped to learn more Python!\n",
    "workbook.close()\n",
    "\n",
    "\n",
    "# You will now find `sales-report.xlsx` in this folder. "
   ]
  },
  {
   "cell_type": "code",
   "execution_count": null,
   "metadata": {},
   "outputs": [],
   "source": [
    "\n"
   ]
  }
 ],
 "metadata": {
  "kernelspec": {
   "display_name": "Python 3",
   "language": "python",
   "name": "python3"
  },
  "language_info": {
   "codemirror_mode": {
    "name": "ipython",
    "version": 3
   },
   "file_extension": ".py",
   "mimetype": "text/x-python",
   "name": "python",
   "nbconvert_exporter": "python",
   "pygments_lexer": "ipython3",
   "version": "3.7.9"
  }
 },
 "nbformat": 4,
 "nbformat_minor": 4
}
